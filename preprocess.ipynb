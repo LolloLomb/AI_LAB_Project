{
 "cells": [
  {
   "cell_type": "code",
   "execution_count": null,
   "metadata": {},
   "outputs": [],
   "source": [
    "# PREPROCESSING\n",
    "# voglio che tutte le immagini si avvicinino alla dimensione di 64x64\n",
    "    # eseguo una resize proporzionale che mi permetta di avvicinarmi\n",
    "    # successivamente farò un crop centrale\n",
    "\n",
    "import os\n",
    "import cv2\n",
    "import math\n",
    "\n",
    "final_size = (64, 64)\n",
    "# Path (non sono divise tra train e val, uso random_split in seguito)\n",
    "folders_path = 'dataset/garbage_classification'\n",
    "\n",
    "def preprocess():\n",
    "    folders = os.listdir(folders_path)\n",
    "\n",
    "    for type in folders:\n",
    "        folder_path = os.path.join(folders_path, type)\n",
    "        files = os.listdir(folder_path)\n",
    "\n",
    "        for file in files:\n",
    "            # Carica l'immagine e ottieni le dimensioni\n",
    "            img = cv2.imread(os.path.join(folder_path, file))\n",
    "\n",
    "            if img is not None:\n",
    "\n",
    "                scale = max(final_size) / min(img.shape[:2])\n",
    "        \n",
    "                # Ridimensiona mantenendo le proporzioni\n",
    "                img = cv2.resize(img, (int(math.ceil(img.shape[1] * scale)), int(math.ceil(img.shape[0] * scale))))\n",
    "                \n",
    "                cropped =   img[img.shape[0]//2 - final_size[0]//2 : img.shape[0]//2 + final_size[0]//2,\n",
    "                                img.shape[1]//2 - final_size[1]//2 : img.shape[1]//2 + final_size[1]//2]\n",
    "\n",
    "                output_dir = f\"preprocessed_dataset/{type}\"\n",
    "                output_path = output_dir + f\"/{file.split('.jpg')[0]}_preprocessed.jpg\"\n",
    "\n",
    "                if os.path.exists(output_dir):\n",
    "                    cv2.imwrite(output_path, cropped)\n",
    "                else:\n",
    "                    os.makedirs(output_dir)\n",
    "                    cv2.imwrite(output_path, cropped)\n",
    "        print(f\"finished with {type}\")\n",
    "\n",
    "                \n",
    "\n",
    "    print(\"Done with Preprocessing!\")\n",
    "\n",
    "preprocess()   \n"
   ]
  }
 ],
 "metadata": {
  "language_info": {
   "name": "python"
  }
 },
 "nbformat": 4,
 "nbformat_minor": 2
}
